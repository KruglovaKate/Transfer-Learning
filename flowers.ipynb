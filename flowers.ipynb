{
  "cells": [
    {
      "cell_type": "markdown",
      "metadata": {
        "id": "view-in-github",
        "colab_type": "text"
      },
      "source": [
        "<a href=\"https://colab.research.google.com/github/KruglovaKate/Transfer-Learning/blob/main/flowers.ipynb\" target=\"_parent\"><img src=\"https://colab.research.google.com/assets/colab-badge.svg\" alt=\"Open In Colab\"/></a>"
      ]
    },
    {
      "cell_type": "code",
      "execution_count": 1,
      "metadata": {
        "colab": {
          "base_uri": "https://localhost:8080/"
        },
        "id": "CnIb8E7T6bFZ",
        "outputId": "50d4b5fc-5500-4e21-e2e4-e8de97338b51"
      },
      "outputs": [
        {
          "output_type": "stream",
          "name": "stdout",
          "text": [
            "Mounted at /content/gdrive\n"
          ]
        }
      ],
      "source": [
        "from google.colab import drive\n",
        "drive.mount('/content/gdrive')"
      ]
    },
    {
      "cell_type": "markdown",
      "source": [
        "# Create Dataset"
      ],
      "metadata": {
        "id": "zxAvSl0z_2ug"
      }
    },
    {
      "cell_type": "code",
      "execution_count": 2,
      "metadata": {
        "colab": {
          "base_uri": "https://localhost:8080/"
        },
        "id": "-49uirhE6bIP",
        "outputId": "257a4f6d-777e-49d4-8d31-be3a64e7e1e6"
      },
      "outputs": [
        {
          "output_type": "stream",
          "name": "stdout",
          "text": [
            "['.config', 'gdrive', '17flowers', 'sample_data']\n"
          ]
        }
      ],
      "source": [
        "import zipfile\n",
        "import os\n",
        "zip_file = \"/content/gdrive/MyDrive/archive.zip\"\n",
        "z = zipfile.ZipFile(zip_file, 'r')\n",
        "z.extractall()\n",
        "print(os.listdir())"
      ]
    },
    {
      "cell_type": "code",
      "execution_count": 3,
      "metadata": {
        "id": "un6sjbL86bQ_"
      },
      "outputs": [],
      "source": [
        "from torch.utils.data import DataLoader\n",
        "from torchvision.datasets import VisionDataset\n",
        "import torch\n",
        "from torch.utils.data import Dataset\n",
        "from torchvision import transforms\n",
        "from torchvision.transforms import ToTensor,Resize, Grayscale, Normalize\n",
        "import matplotlib.pyplot as plt\n",
        "import zipfile \n",
        "import numpy as np \n",
        "import matplotlib.pyplot as plt \n",
        "import os\n",
        "import torch.nn as nn\n",
        "import torch.nn.functional as F\n",
        "import torch.optim as optim"
      ]
    },
    {
      "cell_type": "code",
      "execution_count": 4,
      "metadata": {
        "id": "NTZDPPPQAoc6"
      },
      "outputs": [],
      "source": [
        "CLASSES_PATHS = {\n",
        "   \n",
        "        0: [\"/content/17flowers/jpg/0\"],\n",
        "        1: [\"/content/17flowers/jpg/1\"],\n",
        "        2: [\"/content/17flowers/jpg/2\"],\n",
        "        3: [\"/content/17flowers/jpg/3\"],\n",
        "        4: [\"/content/17flowers/jpg/4\"],\n",
        "        5: [\"/content/17flowers/jpg/5\"],\n",
        "        6: [\"/content/17flowers/jpg/6\"],\n",
        "        7: [\"/content/17flowers/jpg/7\"],\n",
        "        8: [\"/content/17flowers/jpg/8\"],\n",
        "        9: [\"/content/17flowers/jpg/9\"],\n",
        "        10: [\"/content/17flowers/jpg/10\"],\n",
        "        11: [\"/content/17flowers/jpg/11\"],\n",
        "        12: [\"/content/17flowers/jpg/12\"],\n",
        "        13: [\"/content/17flowers/jpg/13\"],\n",
        "        14: [\"/content/17flowers/jpg/14\"],\n",
        "        15: [\"/content/17flowers/jpg/15\"],\n",
        "        16: [\"/content/17flowers/jpg/16\"]\n",
        "}"
      ]
    },
    {
      "cell_type": "code",
      "execution_count": 5,
      "metadata": {
        "id": "xPOVjC_G6bT7"
      },
      "outputs": [],
      "source": [
        "import os\n",
        "import pandas as pd\n",
        "from torchvision.io import read_image\n",
        "import torch\n",
        "from torch.utils.data import Dataset\n",
        "from torchvision import datasets\n",
        "import glob\n",
        "import cv2\n",
        "from torchvision import transforms\n",
        "\n",
        "class My_class(Dataset):\n",
        "    def __init__(self,  classes_paths, transforms=None, target_transform=None):\n",
        "        #print(glob.glob(data_dir))\n",
        "        self.classes = []\n",
        "        self.images = []\n",
        "        self.transform = transforms\n",
        "        for actual_class in classes_paths:\n",
        "            if actual_class == 1:\n",
        "                print(\"\")\n",
        "            paths = classes_paths[actual_class]\n",
        "            for path in paths:\n",
        "                print(\"Loading \" + path)\n",
        "                for top, dirs, files in os.walk(path):\n",
        "                    for i, name in enumerate(files):\n",
        "                        if not os.path.isfile(top + \"//\" + name):\n",
        "                            continue\n",
        "                        try:\n",
        "                            imag = cv2.imread(top + \"//\" + name)\n",
        "                            imag = cv2.cvtColor(imag, cv2.COLOR_BGR2RGB)\n",
        "                        except Exception:\n",
        "                            continue\n",
        "                        \n",
        "                        self.images.append(imag)\n",
        "                        self.classes.append(actual_class)\n",
        "                        image1 = cv2.flip(imag, 0)                                       \n",
        "                        self.images.append(image1)\n",
        "                        self.classes.append(actual_class)\n",
        "                        image2 = cv2.flip(imag, 1) \n",
        "                        self.images.append(image2)\n",
        "                        self.classes.append(actual_class)\n",
        "                        image3 = cv2.rotate( imag, cv2.ROTATE_90_CLOCKWISE)\n",
        "                        self.images.append(image3)\n",
        "                        self.classes.append(actual_class)\n",
        "                        image4 = cv2.rotate( imag, cv2.ROTATE_90_COUNTERCLOCKWISE)\n",
        "                        self.images.append(image4)\n",
        "                        self.classes.append(actual_class)\n",
        "        self.images, self.classes = np.array(self.images), np.array(self.classes)       \n",
        "\n",
        "    def __len__(self):\n",
        "        return len(self.images)\n",
        "\n",
        "    def __getitem__(self, idx):\n",
        "        if self.transform==None:\n",
        "           return self.images[idx], self.classes[idx]\n",
        "        else:\n",
        "           return self.transform(np.array(self.images[idx])), self.classes[idx]"
      ]
    },
    {
      "cell_type": "code",
      "execution_count": 6,
      "metadata": {
        "id": "Yf4zGpnr6bWn"
      },
      "outputs": [],
      "source": [
        "transforms = transforms.Compose([ToTensor(), Resize([256, 256])])"
      ]
    },
    {
      "cell_type": "code",
      "execution_count": 7,
      "metadata": {
        "colab": {
          "base_uri": "https://localhost:8080/"
        },
        "id": "RlcAdE0-6bZ-",
        "outputId": "51427653-83cd-4107-9528-ac59e934b201"
      },
      "outputs": [
        {
          "output_type": "stream",
          "name": "stdout",
          "text": [
            "Loading /content/17flowers/jpg/0\n",
            "\n",
            "Loading /content/17flowers/jpg/1\n",
            "Loading /content/17flowers/jpg/2\n",
            "Loading /content/17flowers/jpg/3\n",
            "Loading /content/17flowers/jpg/4\n",
            "Loading /content/17flowers/jpg/5\n",
            "Loading /content/17flowers/jpg/6\n",
            "Loading /content/17flowers/jpg/7\n",
            "Loading /content/17flowers/jpg/8\n",
            "Loading /content/17flowers/jpg/9\n",
            "Loading /content/17flowers/jpg/10\n",
            "Loading /content/17flowers/jpg/11\n",
            "Loading /content/17flowers/jpg/12\n",
            "Loading /content/17flowers/jpg/13\n",
            "Loading /content/17flowers/jpg/14\n",
            "Loading /content/17flowers/jpg/15\n",
            "Loading /content/17flowers/jpg/16\n"
          ]
        },
        {
          "output_type": "stream",
          "name": "stderr",
          "text": [
            "/usr/local/lib/python3.7/dist-packages/ipykernel_launcher.py:47: VisibleDeprecationWarning: Creating an ndarray from ragged nested sequences (which is a list-or-tuple of lists-or-tuples-or ndarrays with different lengths or shapes) is deprecated. If you meant to do this, you must specify 'dtype=object' when creating the ndarray.\n"
          ]
        }
      ],
      "source": [
        "dataset = My_class(CLASSES_PATHS, transforms)\n",
        "param = 0.9\n",
        "dataset_train, dataset_test = torch.utils.data.random_split(dataset, [int(len(dataset)*param), len(dataset)-int(len(dataset)*param)])\n",
        "train_loader = DataLoader(dataset_train, batch_size=32, shuffle= True)\n",
        "test_loader = DataLoader(dataset_test, batch_size=32, shuffle= True)"
      ]
    },
    {
      "cell_type": "code",
      "execution_count": 8,
      "metadata": {
        "colab": {
          "base_uri": "https://localhost:8080/",
          "height": 321
        },
        "id": "MIXw81oC6bdb",
        "outputId": "56ee0591-6779-4114-e882-95d5fb0df8a6"
      },
      "outputs": [
        {
          "output_type": "stream",
          "name": "stdout",
          "text": [
            "Feature batch shape: torch.Size([32, 3, 256, 256])\n",
            "Labels batch shape: torch.Size([32])\n"
          ]
        },
        {
          "output_type": "display_data",
          "data": {
            "text/plain": [
              "<Figure size 432x288 with 1 Axes>"
            ],
            "image/png": "[encoded data removed]"
          },
          "metadata": {
            "needs_background": "light"
          }
        },
        {
          "output_type": "stream",
          "name": "stdout",
          "text": [
            "Label: 15\n"
          ]
        }
      ],
      "source": [
        "train_features, train_labels = next(iter(train_loader))\n",
        "print(f\"Feature batch shape: {train_features.size()}\")\n",
        "print(f\"Labels batch shape: {train_labels.size()}\")\n",
        "img = train_features[0].squeeze()\n",
        "img = np.transpose(img, (2,1,0)) \n",
        "label = train_labels[0]\n",
        "plt.imshow(img)\n",
        "plt.show()\n",
        "print(f\"Label: {label}\")"
      ]
    },
    {
      "cell_type": "markdown",
      "source": [
        "# CLassic CNN"
      ],
      "metadata": {
        "id": "Tlpf2X8tAI8F"
      }
    },
    {
      "cell_type": "code",
      "execution_count": 18,
      "metadata": {
        "id": "kU10kx4eJouX"
      },
      "outputs": [],
      "source": [
        "import torch.nn as nn\n",
        "import torch\n",
        "import torch.nn.functional as F\n",
        "\n",
        "class FourLayerCNN(nn.Module):\n",
        "\n",
        "    def __init__(self):\n",
        "\n",
        "        super(FourLayerCNN, self).__init__() \n",
        "\n",
        "        self.conv1 = nn.Conv2d(3, 6, 3)\n",
        "        self.conv2 = nn.Conv2d(6, 16, 3)\n",
        "        self.conv3 = nn.Conv2d(16, 3, 3)\n",
        "        self.conv4 = nn.Conv2d(3, 6, 3)\n",
        "        \n",
        "        self.fc1 = nn.Linear(22326, 17) \n",
        "    \n",
        "\n",
        "    def forward(self, x):\n",
        "\n",
        "        x = self.conv1(x) \n",
        "        x = F.relu(x)\n",
        "        x = self.conv2(x) \n",
        "        x = F.relu(x)\n",
        "        x = F.max_pool2d(x, (2, 2))\n",
        "        x = self.conv3(x)\n",
        "        x = F.relu(x)\n",
        "        x = self.conv4(x)\n",
        "        x = F.relu(x)\n",
        "        x = F.max_pool2d(x, (2, 2))\n",
        "        x = torch.flatten(x,1)\n",
        "        x = self.fc1(x) \n",
        " \n",
        "        return x     \n",
        "  \n"
      ]
    },
    {
      "cell_type": "code",
      "execution_count": 10,
      "metadata": {
        "id": "fnX4374OJo5L"
      },
      "outputs": [],
      "source": [
        "import torch.optim as optim\n",
        "\n",
        "def validate(model,testloader):\n",
        "    correct = 0\n",
        "    total = 0\n",
        "    with torch.no_grad():\n",
        "        for images, labels in testloader:\n",
        "            outputs = model(images)\n",
        "            _, predicted = torch.max(outputs.data, 1)\n",
        "            total += labels.size(0)\n",
        "            correct += (predicted == labels).sum().item()\n",
        "\n",
        "    return correct / total  "
      ]
    },
    {
      "cell_type": "code",
      "execution_count": 11,
      "metadata": {
        "id": "70G1BBSxJo78"
      },
      "outputs": [],
      "source": [
        "import torch\n",
        "\n",
        "def train(model, loss_function,optimizer , epochs):\n",
        "    loss_hist = []\n",
        "    test_accuracy = []\n",
        "    train_accuracy = []\n",
        "    for epoch in range(epochs):\n",
        "        ep_loss = 0\n",
        "        for images, labels in train_loader: # get bacth  \n",
        "            images = images.cuda()\n",
        "            labels = labels.cuda()       \n",
        "            optimizer.zero_grad() # sets the gradients of all optimized tensors to zero.\n",
        "            outputs = model.forward(images) # call forward inside \n",
        "            loss = loss_function(outputs, labels) # calculate loss\n",
        "            loss.backward() # calculate gradients\n",
        "            optimizer.step() # performs a single optimization step (parameter update).\n",
        "            ep_loss += loss.item()\n",
        "        loss_hist.append(ep_loss /len(train_loader))\n",
        "        print(f\"Epoch={epoch} loss={loss_hist[epoch]:.4}\")\n",
        "      #  test_accuracy.append(validate(model, test_loader))\n",
        "       # train_accuracy.append(validate(model, train_loader))\n",
        "    return  loss_hist"
      ]
    },
    {
      "cell_type": "code",
      "execution_count": 19,
      "metadata": {
        "colab": {
          "base_uri": "https://localhost:8080/"
        },
        "id": "rkJbbsnlLNBx",
        "outputId": "a9d01f4f-f71a-4d2e-ffa8-94dff52e74ee"
      },
      "outputs": [
        {
          "output_type": "stream",
          "name": "stdout",
          "text": [
            "Using device: cuda\n",
            "Epoch=0 loss=2.817\n",
            "Epoch=1 loss=2.298\n",
            "Epoch=2 loss=2.054\n",
            "Epoch=3 loss=1.923\n",
            "Epoch=4 loss=1.794\n",
            "Epoch=5 loss=1.689\n",
            "Epoch=6 loss=1.592\n",
            "Epoch=7 loss=1.48\n",
            "Epoch=8 loss=1.383\n",
            "Epoch=9 loss=1.257\n"
          ]
        }
      ],
      "source": [
        "device = torch.device('cuda' if torch.cuda.is_available() else 'cpu')\n",
        "print('Using device:', device)\n",
        "model = FourLayerCNN().to(device)  # Create model instance\n",
        "optimizer = torch.optim.SGD(model.parameters(), lr=0.01)  # Weight update\n",
        "loss_hist_CNN = train(model,  nn.CrossEntropyLoss().cuda(), optimizer, epochs = 10)"
      ]
    },
    {
      "cell_type": "code",
      "execution_count": 16,
      "metadata": {
        "id": "0aYP_-EVJo-4"
      },
      "outputs": [],
      "source": [
        "epochs = 10\n",
        "def test(new_model, loss_function, epochs =10):\n",
        "  correct = 0\n",
        "  total = 0\n",
        "  loss_test = []\n",
        "  for epoch in range(epochs):\n",
        "        ep_loss = 0\n",
        "        with torch.no_grad():\n",
        "            for images, labels in test_loader:\n",
        "                images = images.cuda()\n",
        "                labels = labels.cuda()\n",
        "          # calculate outputs by running images through the network\n",
        "                outputs = new_model(images)\n",
        "                loss = loss_function(outputs, labels)\n",
        "                ep_loss += loss.item()\n",
        "          # the class with the highest energy is what we choose as prediction\n",
        "                _, predicted = torch.max(outputs.data, 1)\n",
        "                total += labels.size(0)\n",
        "                correct += (predicted == labels).sum().item()\n",
        "                \n",
        "        loss_test.append(ep_loss /len(test_loader))\n",
        "        print(f\"Epoch={epoch} loss={loss_test[epoch]:.4}\")\n",
        "  print('Accuracy of the network on the 10000 test images: %d %%' % (\n",
        "      100 * correct / total))\n",
        "  return loss_test"
      ]
    },
    {
      "cell_type": "code",
      "execution_count": 21,
      "metadata": {
        "colab": {
          "base_uri": "https://localhost:8080/"
        },
        "id": "OevaVxNSJpBh",
        "outputId": "38b917a6-8127-4b38-9003-81ae318be436"
      },
      "outputs": [
        {
          "output_type": "stream",
          "name": "stdout",
          "text": [
            "Epoch=0 loss=1.743\n",
            "Epoch=1 loss=1.744\n",
            "Epoch=2 loss=1.756\n",
            "Epoch=3 loss=1.745\n",
            "Epoch=4 loss=1.743\n",
            "Epoch=5 loss=1.775\n",
            "Epoch=6 loss=1.75\n",
            "Epoch=7 loss=1.748\n",
            "Epoch=8 loss=1.766\n",
            "Epoch=9 loss=1.771\n",
            "Accuracy of the network on the 10000 test images: 39 %\n"
          ]
        }
      ],
      "source": [
        "loss_test = test(model, nn.CrossEntropyLoss(), epochs = 10)"
      ]
    },
    {
      "cell_type": "markdown",
      "metadata": {
        "id": "URvpKaKRDYQi"
      },
      "source": [
        "# Pretrained models\n"
      ]
    },
    {
      "cell_type": "code",
      "execution_count": 12,
      "metadata": {
        "id": "fNafzit5Dzdx"
      },
      "outputs": [],
      "source": [
        "from torchvision.models import resnet50, ResNet50_Weights\n",
        "from torchvision import datasets, models, transforms\n",
        "import torchvision\n",
        "import torch\n",
        "import torch.nn as nn\n",
        "import torch.optim as optim\n",
        "from torch.optim import lr_scheduler\n",
        "import torch.backends.cudnn as cudnn\n",
        "import numpy as np\n",
        "import torchvision\n",
        "from torchvision import datasets, models, transforms\n",
        "import matplotlib.pyplot as plt\n",
        "import time\n",
        "import os\n",
        "import copy\n"
      ]
    },
    {
      "cell_type": "markdown",
      "source": [
        "# Transfer Learning"
      ],
      "metadata": {
        "id": "D0qn5RqJAVO0"
      }
    },
    {
      "cell_type": "code",
      "execution_count": 22,
      "metadata": {
        "colab": {
          "base_uri": "https://localhost:8080/"
        },
        "id": "fNPYMP7sGKh0",
        "outputId": "af47f8f3-3bd0-447e-fed7-7c9df3220bb9"
      },
      "outputs": [
        {
          "output_type": "stream",
          "name": "stderr",
          "text": [
            "/usr/local/lib/python3.7/dist-packages/torchvision/models/_utils.py:209: UserWarning: The parameter 'pretrained' is deprecated since 0.13 and will be removed in 0.15, please use 'weights' instead.\n",
            "  f\"The parameter '{pretrained_param}' is deprecated since 0.13 and will be removed in 0.15, \"\n",
            "/usr/local/lib/python3.7/dist-packages/torchvision/models/_utils.py:223: UserWarning: Arguments other than a weight enum or `None` for 'weights' are deprecated since 0.13 and will be removed in 0.15. The current behavior is equivalent to passing `weights=ResNet18_Weights.IMAGENET1K_V1`. You can also use `weights=ResNet18_Weights.DEFAULT` to get the most up-to-date weights.\n",
            "  warnings.warn(msg)\n"
          ]
        }
      ],
      "source": [
        "model_conv = torchvision.models.resnet18(pretrained=True)\n",
        "for param in model_conv.parameters():\n",
        "    param.requires_grad = False"
      ]
    },
    {
      "cell_type": "code",
      "execution_count": 23,
      "metadata": {
        "id": "lns0XySRGKkQ"
      },
      "outputs": [],
      "source": [
        "num_ftrs = model_conv.fc.in_features\n",
        "model_conv.fc = nn.Linear(num_ftrs, 17)\n",
        "\n",
        "model_conv = model_conv.cuda()\n",
        "\n",
        "criterion = nn.CrossEntropyLoss()\n",
        "\n",
        "optimizer_conv = optim.SGD(model_conv.fc.parameters(), lr=0.001)\n"
      ]
    },
    {
      "cell_type": "code",
      "execution_count": 24,
      "metadata": {
        "colab": {
          "base_uri": "https://localhost:8080/"
        },
        "id": "q0j4lqJ8GKnE",
        "outputId": "09fcdb3d-a1b8-450a-d7a6-79e09daee13c"
      },
      "outputs": [
        {
          "output_type": "stream",
          "name": "stdout",
          "text": [
            "Epoch=0 loss=2.696\n",
            "Epoch=1 loss=2.23\n",
            "Epoch=2 loss=1.863\n",
            "Epoch=3 loss=1.585\n",
            "Epoch=4 loss=1.369\n",
            "Epoch=5 loss=1.202\n",
            "Epoch=6 loss=1.07\n",
            "Epoch=7 loss=0.9689\n",
            "Epoch=8 loss=0.8781\n",
            "Epoch=9 loss=0.8224\n"
          ]
        }
      ],
      "source": [
        "loss_hist_tl = train(model_conv, criterion.cuda(), optimizer_conv, epochs=10)"
      ]
    },
    {
      "cell_type": "code",
      "execution_count": 25,
      "metadata": {
        "id": "6DkCxC0ZGKp3",
        "colab": {
          "base_uri": "https://localhost:8080/"
        },
        "outputId": "645f2bd5-b760-433e-f900-54d634f034d9"
      },
      "outputs": [
        {
          "output_type": "stream",
          "name": "stdout",
          "text": [
            "Epoch=0 loss=0.845\n",
            "Epoch=1 loss=0.8719\n",
            "Epoch=2 loss=0.8385\n",
            "Epoch=3 loss=0.8489\n",
            "Epoch=4 loss=0.8528\n",
            "Epoch=5 loss=0.8536\n",
            "Epoch=6 loss=0.852\n",
            "Epoch=7 loss=0.8589\n",
            "Epoch=8 loss=0.8435\n",
            "Epoch=9 loss=0.8724\n",
            "Accuracy of the network on the 10000 test images: 88 %\n"
          ]
        }
      ],
      "source": [
        "loss_test = test(model_conv, nn.CrossEntropyLoss().cuda(), epochs = 10)"
      ]
    },
    {
      "cell_type": "markdown",
      "source": [
        "# Fine Tuning"
      ],
      "metadata": {
        "id": "-W9OGez06jJF"
      }
    },
    {
      "cell_type": "code",
      "execution_count": 26,
      "metadata": {
        "id": "xGH4y9Z0GKtX",
        "colab": {
          "base_uri": "https://localhost:8080/"
        },
        "outputId": "08dc2493-4ea8-4ca4-b2f3-77102805ad93"
      },
      "outputs": [
        {
          "output_type": "stream",
          "name": "stderr",
          "text": [
            "/usr/local/lib/python3.7/dist-packages/torchvision/models/_utils.py:209: UserWarning: The parameter 'pretrained' is deprecated since 0.13 and will be removed in 0.15, please use 'weights' instead.\n",
            "  f\"The parameter '{pretrained_param}' is deprecated since 0.13 and will be removed in 0.15, \"\n",
            "/usr/local/lib/python3.7/dist-packages/torchvision/models/_utils.py:223: UserWarning: Arguments other than a weight enum or `None` for 'weights' are deprecated since 0.13 and will be removed in 0.15. The current behavior is equivalent to passing `weights=ResNet18_Weights.IMAGENET1K_V1`. You can also use `weights=ResNet18_Weights.DEFAULT` to get the most up-to-date weights.\n",
            "  warnings.warn(msg)\n"
          ]
        }
      ],
      "source": [
        "model_ft = models.resnet18(pretrained=True)\n",
        "for param in model_ft.parameters():\n",
        "    param.requires_grad = False\n",
        "num_ftrs = model_ft.fc.in_features\n",
        "\n",
        "model_ft.fc = nn.Linear(num_ftrs, 17)\n",
        "device = torch.device('cuda' if torch.cuda.is_available() else 'cpu')\n",
        "model_ft = model_ft.to(device)\n",
        "\n",
        "criterion = nn.CrossEntropyLoss()\n",
        "\n",
        "# Observe that all parameters are being optimized\n",
        "optimizer_ft = optim.SGD(model_ft.parameters(), lr=0.001, momentum=0.9)\n",
        "\n",
        "# Decay LR by a factor of 0.1 every 7 epochs\n",
        "exp_lr_scheduler = lr_scheduler.StepLR(optimizer_ft, step_size=7, gamma=0.1)"
      ]
    },
    {
      "cell_type": "code",
      "source": [
        "loss_hist_ft_1 = train(model_ft, criterion.cuda(), optimizer_ft, epochs=10)"
      ],
      "metadata": {
        "colab": {
          "base_uri": "https://localhost:8080/"
        },
        "id": "rcrzGA_E6wly",
        "outputId": "bc044eca-b1c5-4934-c973-e82701666e7c"
      },
      "execution_count": 27,
      "outputs": [
        {
          "output_type": "stream",
          "name": "stdout",
          "text": [
            "Epoch=0 loss=1.553\n",
            "Epoch=1 loss=0.6033\n",
            "Epoch=2 loss=0.4161\n",
            "Epoch=3 loss=0.3357\n",
            "Epoch=4 loss=0.2868\n",
            "Epoch=5 loss=0.2447\n",
            "Epoch=6 loss=0.2264\n",
            "Epoch=7 loss=0.2092\n",
            "Epoch=8 loss=0.1925\n",
            "Epoch=9 loss=0.1731\n"
          ]
        }
      ]
    },
    {
      "cell_type": "code",
      "source": [
        "loss_test = test(model_ft, nn.CrossEntropyLoss().cuda(), epochs = 10)"
      ],
      "metadata": {
        "colab": {
          "base_uri": "https://localhost:8080/"
        },
        "id": "7N2jK3546wpX",
        "outputId": "3412247d-be68-4833-b553-8374d6157db0"
      },
      "execution_count": 28,
      "outputs": [
        {
          "output_type": "stream",
          "name": "stdout",
          "text": [
            "Epoch=0 loss=0.2437\n",
            "Epoch=1 loss=0.2324\n",
            "Epoch=2 loss=0.259\n",
            "Epoch=3 loss=0.2299\n",
            "Epoch=4 loss=0.2432\n",
            "Epoch=5 loss=0.2373\n",
            "Epoch=6 loss=0.2609\n",
            "Epoch=7 loss=0.2493\n",
            "Epoch=8 loss=0.247\n",
            "Epoch=9 loss=0.2196\n",
            "Accuracy of the network on the 10000 test images: 95 %\n"
          ]
        }
      ]
    },
    {
      "cell_type": "code",
      "source": [
        "torch.save(model_ft, 'model_frozen.pt')"
      ],
      "metadata": {
        "id": "3d67sQDXNF2o"
      },
      "execution_count": 29,
      "outputs": []
    },
    {
      "cell_type": "code",
      "source": [
        "model_ft_new = torch.load('model_frozen.pt')\n",
        "model_ft_new.eval()"
      ],
      "metadata": {
        "colab": {
          "base_uri": "https://localhost:8080/"
        },
        "id": "cOE7RLKhNPAb",
        "outputId": "a9d49013-6f77-4c93-e056-5b45d2a38fc4"
      },
      "execution_count": 30,
      "outputs": [
        {
          "output_type": "execute_result",
          "data": {
            "text/plain": [
              "ResNet(\n",
              "  (conv1): Conv2d(3, 64, kernel_size=(7, 7), stride=(2, 2), padding=(3, 3), bias=False)\n",
              "  (bn1): BatchNorm2d(64, eps=1e-05, momentum=0.1, affine=True, track_running_stats=True)\n",
              "  (relu): ReLU(inplace=True)\n",
              "  (maxpool): MaxPool2d(kernel_size=3, stride=2, padding=1, dilation=1, ceil_mode=False)\n",
              "  (layer1): Sequential(\n",
              "    (0): BasicBlock(\n",
              "      (conv1): Conv2d(64, 64, kernel_size=(3, 3), stride=(1, 1), padding=(1, 1), bias=False)\n",
              "      (bn1): BatchNorm2d(64, eps=1e-05, momentum=0.1, affine=True, track_running_stats=True)\n",
              "      (relu): ReLU(inplace=True)\n",
              "      (conv2): Conv2d(64, 64, kernel_size=(3, 3), stride=(1, 1), padding=(1, 1), bias=False)\n",
              "      (bn2): BatchNorm2d(64, eps=1e-05, momentum=0.1, affine=True, track_running_stats=True)\n",
              "    )\n",
              "    (1): BasicBlock(\n",
              "      (conv1): Conv2d(64, 64, kernel_size=(3, 3), stride=(1, 1), padding=(1, 1), bias=False)\n",
              "      (bn1): BatchNorm2d(64, eps=1e-05, momentum=0.1, affine=True, track_running_stats=True)\n",
              "      (relu): ReLU(inplace=True)\n",
              "      (conv2): Conv2d(64, 64, kernel_size=(3, 3), stride=(1, 1), padding=(1, 1), bias=False)\n",
              "      (bn2): BatchNorm2d(64, eps=1e-05, momentum=0.1, affine=True, track_running_stats=True)\n",
              "    )\n",
              "  )\n",
              "  (layer2): Sequential(\n",
              "    (0): BasicBlock(\n",
              "      (conv1): Conv2d(64, 128, kernel_size=(3, 3), stride=(2, 2), padding=(1, 1), bias=False)\n",
              "      (bn1): BatchNorm2d(128, eps=1e-05, momentum=0.1, affine=True, track_running_stats=True)\n",
              "      (relu): ReLU(inplace=True)\n",
              "      (conv2): Conv2d(128, 128, kernel_size=(3, 3), stride=(1, 1), padding=(1, 1), bias=False)\n",
              "      (bn2): BatchNorm2d(128, eps=1e-05, momentum=0.1, affine=True, track_running_stats=True)\n",
              "      (downsample): Sequential(\n",
              "        (0): Conv2d(64, 128, kernel_size=(1, 1), stride=(2, 2), bias=False)\n",
              "        (1): BatchNorm2d(128, eps=1e-05, momentum=0.1, affine=True, track_running_stats=True)\n",
              "      )\n",
              "    )\n",
              "    (1): BasicBlock(\n",
              "      (conv1): Conv2d(128, 128, kernel_size=(3, 3), stride=(1, 1), padding=(1, 1), bias=False)\n",
              "      (bn1): BatchNorm2d(128, eps=1e-05, momentum=0.1, affine=True, track_running_stats=True)\n",
              "      (relu): ReLU(inplace=True)\n",
              "      (conv2): Conv2d(128, 128, kernel_size=(3, 3), stride=(1, 1), padding=(1, 1), bias=False)\n",
              "      (bn2): BatchNorm2d(128, eps=1e-05, momentum=0.1, affine=True, track_running_stats=True)\n",
              "    )\n",
              "  )\n",
              "  (layer3): Sequential(\n",
              "    (0): BasicBlock(\n",
              "      (conv1): Conv2d(128, 256, kernel_size=(3, 3), stride=(2, 2), padding=(1, 1), bias=False)\n",
              "      (bn1): BatchNorm2d(256, eps=1e-05, momentum=0.1, affine=True, track_running_stats=True)\n",
              "      (relu): ReLU(inplace=True)\n",
              "      (conv2): Conv2d(256, 256, kernel_size=(3, 3), stride=(1, 1), padding=(1, 1), bias=False)\n",
              "      (bn2): BatchNorm2d(256, eps=1e-05, momentum=0.1, affine=True, track_running_stats=True)\n",
              "      (downsample): Sequential(\n",
              "        (0): Conv2d(128, 256, kernel_size=(1, 1), stride=(2, 2), bias=False)\n",
              "        (1): BatchNorm2d(256, eps=1e-05, momentum=0.1, affine=True, track_running_stats=True)\n",
              "      )\n",
              "    )\n",
              "    (1): BasicBlock(\n",
              "      (conv1): Conv2d(256, 256, kernel_size=(3, 3), stride=(1, 1), padding=(1, 1), bias=False)\n",
              "      (bn1): BatchNorm2d(256, eps=1e-05, momentum=0.1, affine=True, track_running_stats=True)\n",
              "      (relu): ReLU(inplace=True)\n",
              "      (conv2): Conv2d(256, 256, kernel_size=(3, 3), stride=(1, 1), padding=(1, 1), bias=False)\n",
              "      (bn2): BatchNorm2d(256, eps=1e-05, momentum=0.1, affine=True, track_running_stats=True)\n",
              "    )\n",
              "  )\n",
              "  (layer4): Sequential(\n",
              "    (0): BasicBlock(\n",
              "      (conv1): Conv2d(256, 512, kernel_size=(3, 3), stride=(2, 2), padding=(1, 1), bias=False)\n",
              "      (bn1): BatchNorm2d(512, eps=1e-05, momentum=0.1, affine=True, track_running_stats=True)\n",
              "      (relu): ReLU(inplace=True)\n",
              "      (conv2): Conv2d(512, 512, kernel_size=(3, 3), stride=(1, 1), padding=(1, 1), bias=False)\n",
              "      (bn2): BatchNorm2d(512, eps=1e-05, momentum=0.1, affine=True, track_running_stats=True)\n",
              "      (downsample): Sequential(\n",
              "        (0): Conv2d(256, 512, kernel_size=(1, 1), stride=(2, 2), bias=False)\n",
              "        (1): BatchNorm2d(512, eps=1e-05, momentum=0.1, affine=True, track_running_stats=True)\n",
              "      )\n",
              "    )\n",
              "    (1): BasicBlock(\n",
              "      (conv1): Conv2d(512, 512, kernel_size=(3, 3), stride=(1, 1), padding=(1, 1), bias=False)\n",
              "      (bn1): BatchNorm2d(512, eps=1e-05, momentum=0.1, affine=True, track_running_stats=True)\n",
              "      (relu): ReLU(inplace=True)\n",
              "      (conv2): Conv2d(512, 512, kernel_size=(3, 3), stride=(1, 1), padding=(1, 1), bias=False)\n",
              "      (bn2): BatchNorm2d(512, eps=1e-05, momentum=0.1, affine=True, track_running_stats=True)\n",
              "    )\n",
              "  )\n",
              "  (avgpool): AdaptiveAvgPool2d(output_size=(1, 1))\n",
              "  (fc): Linear(in_features=512, out_features=17, bias=True)\n",
              ")"
            ]
          },
          "metadata": {},
          "execution_count": 30
        }
      ]
    },
    {
      "cell_type": "code",
      "source": [
        "ct = 0\n",
        "for child in model_ft_new.children():\n",
        "  print(child)\n",
        "  ct += 1\n",
        "  if ct < 7:\n",
        "      for param in child.parameters():\n",
        "          param.requires_grad = False\n",
        "  else:\n",
        "      for param in child.parameters():\n",
        "          param.requires_grad = True"
      ],
      "metadata": {
        "colab": {
          "base_uri": "https://localhost:8080/"
        },
        "id": "Bm-dDymyNPDJ",
        "outputId": "5acad728-1405-4174-a731-b7faf55b34f5"
      },
      "execution_count": 31,
      "outputs": [
        {
          "output_type": "stream",
          "name": "stdout",
          "text": [
            "Conv2d(3, 64, kernel_size=(7, 7), stride=(2, 2), padding=(3, 3), bias=False)\n",
            "BatchNorm2d(64, eps=1e-05, momentum=0.1, affine=True, track_running_stats=True)\n",
            "ReLU(inplace=True)\n",
            "MaxPool2d(kernel_size=3, stride=2, padding=1, dilation=1, ceil_mode=False)\n",
            "Sequential(\n",
            "  (0): BasicBlock(\n",
            "    (conv1): Conv2d(64, 64, kernel_size=(3, 3), stride=(1, 1), padding=(1, 1), bias=False)\n",
            "    (bn1): BatchNorm2d(64, eps=1e-05, momentum=0.1, affine=True, track_running_stats=True)\n",
            "    (relu): ReLU(inplace=True)\n",
            "    (conv2): Conv2d(64, 64, kernel_size=(3, 3), stride=(1, 1), padding=(1, 1), bias=False)\n",
            "    (bn2): BatchNorm2d(64, eps=1e-05, momentum=0.1, affine=True, track_running_stats=True)\n",
            "  )\n",
            "  (1): BasicBlock(\n",
            "    (conv1): Conv2d(64, 64, kernel_size=(3, 3), stride=(1, 1), padding=(1, 1), bias=False)\n",
            "    (bn1): BatchNorm2d(64, eps=1e-05, momentum=0.1, affine=True, track_running_stats=True)\n",
            "    (relu): ReLU(inplace=True)\n",
            "    (conv2): Conv2d(64, 64, kernel_size=(3, 3), stride=(1, 1), padding=(1, 1), bias=False)\n",
            "    (bn2): BatchNorm2d(64, eps=1e-05, momentum=0.1, affine=True, track_running_stats=True)\n",
            "  )\n",
            ")\n",
            "Sequential(\n",
            "  (0): BasicBlock(\n",
            "    (conv1): Conv2d(64, 128, kernel_size=(3, 3), stride=(2, 2), padding=(1, 1), bias=False)\n",
            "    (bn1): BatchNorm2d(128, eps=1e-05, momentum=0.1, affine=True, track_running_stats=True)\n",
            "    (relu): ReLU(inplace=True)\n",
            "    (conv2): Conv2d(128, 128, kernel_size=(3, 3), stride=(1, 1), padding=(1, 1), bias=False)\n",
            "    (bn2): BatchNorm2d(128, eps=1e-05, momentum=0.1, affine=True, track_running_stats=True)\n",
            "    (downsample): Sequential(\n",
            "      (0): Conv2d(64, 128, kernel_size=(1, 1), stride=(2, 2), bias=False)\n",
            "      (1): BatchNorm2d(128, eps=1e-05, momentum=0.1, affine=True, track_running_stats=True)\n",
            "    )\n",
            "  )\n",
            "  (1): BasicBlock(\n",
            "    (conv1): Conv2d(128, 128, kernel_size=(3, 3), stride=(1, 1), padding=(1, 1), bias=False)\n",
            "    (bn1): BatchNorm2d(128, eps=1e-05, momentum=0.1, affine=True, track_running_stats=True)\n",
            "    (relu): ReLU(inplace=True)\n",
            "    (conv2): Conv2d(128, 128, kernel_size=(3, 3), stride=(1, 1), padding=(1, 1), bias=False)\n",
            "    (bn2): BatchNorm2d(128, eps=1e-05, momentum=0.1, affine=True, track_running_stats=True)\n",
            "  )\n",
            ")\n",
            "Sequential(\n",
            "  (0): BasicBlock(\n",
            "    (conv1): Conv2d(128, 256, kernel_size=(3, 3), stride=(2, 2), padding=(1, 1), bias=False)\n",
            "    (bn1): BatchNorm2d(256, eps=1e-05, momentum=0.1, affine=True, track_running_stats=True)\n",
            "    (relu): ReLU(inplace=True)\n",
            "    (conv2): Conv2d(256, 256, kernel_size=(3, 3), stride=(1, 1), padding=(1, 1), bias=False)\n",
            "    (bn2): BatchNorm2d(256, eps=1e-05, momentum=0.1, affine=True, track_running_stats=True)\n",
            "    (downsample): Sequential(\n",
            "      (0): Conv2d(128, 256, kernel_size=(1, 1), stride=(2, 2), bias=False)\n",
            "      (1): BatchNorm2d(256, eps=1e-05, momentum=0.1, affine=True, track_running_stats=True)\n",
            "    )\n",
            "  )\n",
            "  (1): BasicBlock(\n",
            "    (conv1): Conv2d(256, 256, kernel_size=(3, 3), stride=(1, 1), padding=(1, 1), bias=False)\n",
            "    (bn1): BatchNorm2d(256, eps=1e-05, momentum=0.1, affine=True, track_running_stats=True)\n",
            "    (relu): ReLU(inplace=True)\n",
            "    (conv2): Conv2d(256, 256, kernel_size=(3, 3), stride=(1, 1), padding=(1, 1), bias=False)\n",
            "    (bn2): BatchNorm2d(256, eps=1e-05, momentum=0.1, affine=True, track_running_stats=True)\n",
            "  )\n",
            ")\n",
            "Sequential(\n",
            "  (0): BasicBlock(\n",
            "    (conv1): Conv2d(256, 512, kernel_size=(3, 3), stride=(2, 2), padding=(1, 1), bias=False)\n",
            "    (bn1): BatchNorm2d(512, eps=1e-05, momentum=0.1, affine=True, track_running_stats=True)\n",
            "    (relu): ReLU(inplace=True)\n",
            "    (conv2): Conv2d(512, 512, kernel_size=(3, 3), stride=(1, 1), padding=(1, 1), bias=False)\n",
            "    (bn2): BatchNorm2d(512, eps=1e-05, momentum=0.1, affine=True, track_running_stats=True)\n",
            "    (downsample): Sequential(\n",
            "      (0): Conv2d(256, 512, kernel_size=(1, 1), stride=(2, 2), bias=False)\n",
            "      (1): BatchNorm2d(512, eps=1e-05, momentum=0.1, affine=True, track_running_stats=True)\n",
            "    )\n",
            "  )\n",
            "  (1): BasicBlock(\n",
            "    (conv1): Conv2d(512, 512, kernel_size=(3, 3), stride=(1, 1), padding=(1, 1), bias=False)\n",
            "    (bn1): BatchNorm2d(512, eps=1e-05, momentum=0.1, affine=True, track_running_stats=True)\n",
            "    (relu): ReLU(inplace=True)\n",
            "    (conv2): Conv2d(512, 512, kernel_size=(3, 3), stride=(1, 1), padding=(1, 1), bias=False)\n",
            "    (bn2): BatchNorm2d(512, eps=1e-05, momentum=0.1, affine=True, track_running_stats=True)\n",
            "  )\n",
            ")\n",
            "AdaptiveAvgPool2d(output_size=(1, 1))\n",
            "Linear(in_features=512, out_features=17, bias=True)\n"
          ]
        }
      ]
    },
    {
      "cell_type": "code",
      "source": [
        "loss_hist_ft_2 = train(model_ft_new, criterion.cuda(), optimizer_ft, epochs=10)"
      ],
      "metadata": {
        "colab": {
          "base_uri": "https://localhost:8080/"
        },
        "id": "L1msIDYUNPF-",
        "outputId": "1d53c5a8-4e7d-413a-c1e8-c0ccd6c4a347"
      },
      "execution_count": 32,
      "outputs": [
        {
          "output_type": "stream",
          "name": "stdout",
          "text": [
            "Epoch=0 loss=0.127\n",
            "Epoch=1 loss=0.1266\n",
            "Epoch=2 loss=0.1272\n",
            "Epoch=3 loss=0.1269\n",
            "Epoch=4 loss=0.1264\n",
            "Epoch=5 loss=0.1277\n",
            "Epoch=6 loss=0.1265\n",
            "Epoch=7 loss=0.1265\n",
            "Epoch=8 loss=0.1267\n",
            "Epoch=9 loss=0.127\n"
          ]
        }
      ]
    },
    {
      "cell_type": "code",
      "source": [
        "loss_test = test(model_ft_new, nn.CrossEntropyLoss().cuda(), epochs = 10)"
      ],
      "metadata": {
        "colab": {
          "base_uri": "https://localhost:8080/"
        },
        "id": "8DEzLwCeNPJV",
        "outputId": "0909eb2a-baa4-4aca-e38a-27e73298dc05"
      },
      "execution_count": 33,
      "outputs": [
        {
          "output_type": "stream",
          "name": "stdout",
          "text": [
            "Epoch=0 loss=0.1908\n",
            "Epoch=1 loss=0.1954\n",
            "Epoch=2 loss=0.1922\n",
            "Epoch=3 loss=0.2042\n",
            "Epoch=4 loss=0.1894\n",
            "Epoch=5 loss=0.1956\n",
            "Epoch=6 loss=0.1943\n",
            "Epoch=7 loss=0.1957\n",
            "Epoch=8 loss=0.1886\n",
            "Epoch=9 loss=0.1899\n",
            "Accuracy of the network on the 10000 test images: 96 %\n"
          ]
        }
      ]
    },
    {
      "cell_type": "code",
      "source": [
        "torch.save(model_ft_new, 'model_frozen_new.pt')"
      ],
      "metadata": {
        "id": "eo7RBaUn16_-"
      },
      "execution_count": 34,
      "outputs": []
    },
    {
      "cell_type": "code",
      "source": [
        "model_ft_new_2 = torch.load('model_frozen_new.pt')\n",
        "model_ft_new_2.eval()"
      ],
      "metadata": {
        "colab": {
          "base_uri": "https://localhost:8080/"
        },
        "id": "wt4OCTFp17Cg",
        "outputId": "3dcc7127-8f61-417f-dd95-7c9e8520c51a"
      },
      "execution_count": 35,
      "outputs": [
        {
          "output_type": "execute_result",
          "data": {
            "text/plain": [
              "ResNet(\n",
              "  (conv1): Conv2d(3, 64, kernel_size=(7, 7), stride=(2, 2), padding=(3, 3), bias=False)\n",
              "  (bn1): BatchNorm2d(64, eps=1e-05, momentum=0.1, affine=True, track_running_stats=True)\n",
              "  (relu): ReLU(inplace=True)\n",
              "  (maxpool): MaxPool2d(kernel_size=3, stride=2, padding=1, dilation=1, ceil_mode=False)\n",
              "  (layer1): Sequential(\n",
              "    (0): BasicBlock(\n",
              "      (conv1): Conv2d(64, 64, kernel_size=(3, 3), stride=(1, 1), padding=(1, 1), bias=False)\n",
              "      (bn1): BatchNorm2d(64, eps=1e-05, momentum=0.1, affine=True, track_running_stats=True)\n",
              "      (relu): ReLU(inplace=True)\n",
              "      (conv2): Conv2d(64, 64, kernel_size=(3, 3), stride=(1, 1), padding=(1, 1), bias=False)\n",
              "      (bn2): BatchNorm2d(64, eps=1e-05, momentum=0.1, affine=True, track_running_stats=True)\n",
              "    )\n",
              "    (1): BasicBlock(\n",
              "      (conv1): Conv2d(64, 64, kernel_size=(3, 3), stride=(1, 1), padding=(1, 1), bias=False)\n",
              "      (bn1): BatchNorm2d(64, eps=1e-05, momentum=0.1, affine=True, track_running_stats=True)\n",
              "      (relu): ReLU(inplace=True)\n",
              "      (conv2): Conv2d(64, 64, kernel_size=(3, 3), stride=(1, 1), padding=(1, 1), bias=False)\n",
              "      (bn2): BatchNorm2d(64, eps=1e-05, momentum=0.1, affine=True, track_running_stats=True)\n",
              "    )\n",
              "  )\n",
              "  (layer2): Sequential(\n",
              "    (0): BasicBlock(\n",
              "      (conv1): Conv2d(64, 128, kernel_size=(3, 3), stride=(2, 2), padding=(1, 1), bias=False)\n",
              "      (bn1): BatchNorm2d(128, eps=1e-05, momentum=0.1, affine=True, track_running_stats=True)\n",
              "      (relu): ReLU(inplace=True)\n",
              "      (conv2): Conv2d(128, 128, kernel_size=(3, 3), stride=(1, 1), padding=(1, 1), bias=False)\n",
              "      (bn2): BatchNorm2d(128, eps=1e-05, momentum=0.1, affine=True, track_running_stats=True)\n",
              "      (downsample): Sequential(\n",
              "        (0): Conv2d(64, 128, kernel_size=(1, 1), stride=(2, 2), bias=False)\n",
              "        (1): BatchNorm2d(128, eps=1e-05, momentum=0.1, affine=True, track_running_stats=True)\n",
              "      )\n",
              "    )\n",
              "    (1): BasicBlock(\n",
              "      (conv1): Conv2d(128, 128, kernel_size=(3, 3), stride=(1, 1), padding=(1, 1), bias=False)\n",
              "      (bn1): BatchNorm2d(128, eps=1e-05, momentum=0.1, affine=True, track_running_stats=True)\n",
              "      (relu): ReLU(inplace=True)\n",
              "      (conv2): Conv2d(128, 128, kernel_size=(3, 3), stride=(1, 1), padding=(1, 1), bias=False)\n",
              "      (bn2): BatchNorm2d(128, eps=1e-05, momentum=0.1, affine=True, track_running_stats=True)\n",
              "    )\n",
              "  )\n",
              "  (layer3): Sequential(\n",
              "    (0): BasicBlock(\n",
              "      (conv1): Conv2d(128, 256, kernel_size=(3, 3), stride=(2, 2), padding=(1, 1), bias=False)\n",
              "      (bn1): BatchNorm2d(256, eps=1e-05, momentum=0.1, affine=True, track_running_stats=True)\n",
              "      (relu): ReLU(inplace=True)\n",
              "      (conv2): Conv2d(256, 256, kernel_size=(3, 3), stride=(1, 1), padding=(1, 1), bias=False)\n",
              "      (bn2): BatchNorm2d(256, eps=1e-05, momentum=0.1, affine=True, track_running_stats=True)\n",
              "      (downsample): Sequential(\n",
              "        (0): Conv2d(128, 256, kernel_size=(1, 1), stride=(2, 2), bias=False)\n",
              "        (1): BatchNorm2d(256, eps=1e-05, momentum=0.1, affine=True, track_running_stats=True)\n",
              "      )\n",
              "    )\n",
              "    (1): BasicBlock(\n",
              "      (conv1): Conv2d(256, 256, kernel_size=(3, 3), stride=(1, 1), padding=(1, 1), bias=False)\n",
              "      (bn1): BatchNorm2d(256, eps=1e-05, momentum=0.1, affine=True, track_running_stats=True)\n",
              "      (relu): ReLU(inplace=True)\n",
              "      (conv2): Conv2d(256, 256, kernel_size=(3, 3), stride=(1, 1), padding=(1, 1), bias=False)\n",
              "      (bn2): BatchNorm2d(256, eps=1e-05, momentum=0.1, affine=True, track_running_stats=True)\n",
              "    )\n",
              "  )\n",
              "  (layer4): Sequential(\n",
              "    (0): BasicBlock(\n",
              "      (conv1): Conv2d(256, 512, kernel_size=(3, 3), stride=(2, 2), padding=(1, 1), bias=False)\n",
              "      (bn1): BatchNorm2d(512, eps=1e-05, momentum=0.1, affine=True, track_running_stats=True)\n",
              "      (relu): ReLU(inplace=True)\n",
              "      (conv2): Conv2d(512, 512, kernel_size=(3, 3), stride=(1, 1), padding=(1, 1), bias=False)\n",
              "      (bn2): BatchNorm2d(512, eps=1e-05, momentum=0.1, affine=True, track_running_stats=True)\n",
              "      (downsample): Sequential(\n",
              "        (0): Conv2d(256, 512, kernel_size=(1, 1), stride=(2, 2), bias=False)\n",
              "        (1): BatchNorm2d(512, eps=1e-05, momentum=0.1, affine=True, track_running_stats=True)\n",
              "      )\n",
              "    )\n",
              "    (1): BasicBlock(\n",
              "      (conv1): Conv2d(512, 512, kernel_size=(3, 3), stride=(1, 1), padding=(1, 1), bias=False)\n",
              "      (bn1): BatchNorm2d(512, eps=1e-05, momentum=0.1, affine=True, track_running_stats=True)\n",
              "      (relu): ReLU(inplace=True)\n",
              "      (conv2): Conv2d(512, 512, kernel_size=(3, 3), stride=(1, 1), padding=(1, 1), bias=False)\n",
              "      (bn2): BatchNorm2d(512, eps=1e-05, momentum=0.1, affine=True, track_running_stats=True)\n",
              "    )\n",
              "  )\n",
              "  (avgpool): AdaptiveAvgPool2d(output_size=(1, 1))\n",
              "  (fc): Linear(in_features=512, out_features=17, bias=True)\n",
              ")"
            ]
          },
          "metadata": {},
          "execution_count": 35
        }
      ]
    },
    {
      "cell_type": "code",
      "source": [
        "ct = 0\n",
        "for child in model_ft_new_2.children():\n",
        "  print(child)\n",
        "  ct += 1\n",
        "  if ct < 2:\n",
        "      for param in child.parameters():\n",
        "          param.requires_grad = True\n",
        "  else:\n",
        "      for param in child.parameters():\n",
        "          param.requires_grad = True"
      ],
      "metadata": {
        "colab": {
          "base_uri": "https://localhost:8080/"
        },
        "id": "LHcErb4v17Fq",
        "outputId": "e3dbb984-4afe-4f49-f62f-3bf6a2b1d027"
      },
      "execution_count": 36,
      "outputs": [
        {
          "output_type": "stream",
          "name": "stdout",
          "text": [
            "Conv2d(3, 64, kernel_size=(7, 7), stride=(2, 2), padding=(3, 3), bias=False)\n",
            "BatchNorm2d(64, eps=1e-05, momentum=0.1, affine=True, track_running_stats=True)\n",
            "ReLU(inplace=True)\n",
            "MaxPool2d(kernel_size=3, stride=2, padding=1, dilation=1, ceil_mode=False)\n",
            "Sequential(\n",
            "  (0): BasicBlock(\n",
            "    (conv1): Conv2d(64, 64, kernel_size=(3, 3), stride=(1, 1), padding=(1, 1), bias=False)\n",
            "    (bn1): BatchNorm2d(64, eps=1e-05, momentum=0.1, affine=True, track_running_stats=True)\n",
            "    (relu): ReLU(inplace=True)\n",
            "    (conv2): Conv2d(64, 64, kernel_size=(3, 3), stride=(1, 1), padding=(1, 1), bias=False)\n",
            "    (bn2): BatchNorm2d(64, eps=1e-05, momentum=0.1, affine=True, track_running_stats=True)\n",
            "  )\n",
            "  (1): BasicBlock(\n",
            "    (conv1): Conv2d(64, 64, kernel_size=(3, 3), stride=(1, 1), padding=(1, 1), bias=False)\n",
            "    (bn1): BatchNorm2d(64, eps=1e-05, momentum=0.1, affine=True, track_running_stats=True)\n",
            "    (relu): ReLU(inplace=True)\n",
            "    (conv2): Conv2d(64, 64, kernel_size=(3, 3), stride=(1, 1), padding=(1, 1), bias=False)\n",
            "    (bn2): BatchNorm2d(64, eps=1e-05, momentum=0.1, affine=True, track_running_stats=True)\n",
            "  )\n",
            ")\n",
            "Sequential(\n",
            "  (0): BasicBlock(\n",
            "    (conv1): Conv2d(64, 128, kernel_size=(3, 3), stride=(2, 2), padding=(1, 1), bias=False)\n",
            "    (bn1): BatchNorm2d(128, eps=1e-05, momentum=0.1, affine=True, track_running_stats=True)\n",
            "    (relu): ReLU(inplace=True)\n",
            "    (conv2): Conv2d(128, 128, kernel_size=(3, 3), stride=(1, 1), padding=(1, 1), bias=False)\n",
            "    (bn2): BatchNorm2d(128, eps=1e-05, momentum=0.1, affine=True, track_running_stats=True)\n",
            "    (downsample): Sequential(\n",
            "      (0): Conv2d(64, 128, kernel_size=(1, 1), stride=(2, 2), bias=False)\n",
            "      (1): BatchNorm2d(128, eps=1e-05, momentum=0.1, affine=True, track_running_stats=True)\n",
            "    )\n",
            "  )\n",
            "  (1): BasicBlock(\n",
            "    (conv1): Conv2d(128, 128, kernel_size=(3, 3), stride=(1, 1), padding=(1, 1), bias=False)\n",
            "    (bn1): BatchNorm2d(128, eps=1e-05, momentum=0.1, affine=True, track_running_stats=True)\n",
            "    (relu): ReLU(inplace=True)\n",
            "    (conv2): Conv2d(128, 128, kernel_size=(3, 3), stride=(1, 1), padding=(1, 1), bias=False)\n",
            "    (bn2): BatchNorm2d(128, eps=1e-05, momentum=0.1, affine=True, track_running_stats=True)\n",
            "  )\n",
            ")\n",
            "Sequential(\n",
            "  (0): BasicBlock(\n",
            "    (conv1): Conv2d(128, 256, kernel_size=(3, 3), stride=(2, 2), padding=(1, 1), bias=False)\n",
            "    (bn1): BatchNorm2d(256, eps=1e-05, momentum=0.1, affine=True, track_running_stats=True)\n",
            "    (relu): ReLU(inplace=True)\n",
            "    (conv2): Conv2d(256, 256, kernel_size=(3, 3), stride=(1, 1), padding=(1, 1), bias=False)\n",
            "    (bn2): BatchNorm2d(256, eps=1e-05, momentum=0.1, affine=True, track_running_stats=True)\n",
            "    (downsample): Sequential(\n",
            "      (0): Conv2d(128, 256, kernel_size=(1, 1), stride=(2, 2), bias=False)\n",
            "      (1): BatchNorm2d(256, eps=1e-05, momentum=0.1, affine=True, track_running_stats=True)\n",
            "    )\n",
            "  )\n",
            "  (1): BasicBlock(\n",
            "    (conv1): Conv2d(256, 256, kernel_size=(3, 3), stride=(1, 1), padding=(1, 1), bias=False)\n",
            "    (bn1): BatchNorm2d(256, eps=1e-05, momentum=0.1, affine=True, track_running_stats=True)\n",
            "    (relu): ReLU(inplace=True)\n",
            "    (conv2): Conv2d(256, 256, kernel_size=(3, 3), stride=(1, 1), padding=(1, 1), bias=False)\n",
            "    (bn2): BatchNorm2d(256, eps=1e-05, momentum=0.1, affine=True, track_running_stats=True)\n",
            "  )\n",
            ")\n",
            "Sequential(\n",
            "  (0): BasicBlock(\n",
            "    (conv1): Conv2d(256, 512, kernel_size=(3, 3), stride=(2, 2), padding=(1, 1), bias=False)\n",
            "    (bn1): BatchNorm2d(512, eps=1e-05, momentum=0.1, affine=True, track_running_stats=True)\n",
            "    (relu): ReLU(inplace=True)\n",
            "    (conv2): Conv2d(512, 512, kernel_size=(3, 3), stride=(1, 1), padding=(1, 1), bias=False)\n",
            "    (bn2): BatchNorm2d(512, eps=1e-05, momentum=0.1, affine=True, track_running_stats=True)\n",
            "    (downsample): Sequential(\n",
            "      (0): Conv2d(256, 512, kernel_size=(1, 1), stride=(2, 2), bias=False)\n",
            "      (1): BatchNorm2d(512, eps=1e-05, momentum=0.1, affine=True, track_running_stats=True)\n",
            "    )\n",
            "  )\n",
            "  (1): BasicBlock(\n",
            "    (conv1): Conv2d(512, 512, kernel_size=(3, 3), stride=(1, 1), padding=(1, 1), bias=False)\n",
            "    (bn1): BatchNorm2d(512, eps=1e-05, momentum=0.1, affine=True, track_running_stats=True)\n",
            "    (relu): ReLU(inplace=True)\n",
            "    (conv2): Conv2d(512, 512, kernel_size=(3, 3), stride=(1, 1), padding=(1, 1), bias=False)\n",
            "    (bn2): BatchNorm2d(512, eps=1e-05, momentum=0.1, affine=True, track_running_stats=True)\n",
            "  )\n",
            ")\n",
            "AdaptiveAvgPool2d(output_size=(1, 1))\n",
            "Linear(in_features=512, out_features=17, bias=True)\n"
          ]
        }
      ]
    },
    {
      "cell_type": "code",
      "source": [
        "loss_hist_ft_3 = train(model_ft_new_2, criterion.cuda(), optimizer_ft, epochs=10)"
      ],
      "metadata": {
        "colab": {
          "base_uri": "https://localhost:8080/"
        },
        "id": "Zi_yuK-I2Mpl",
        "outputId": "e6ce8d69-58c7-486f-fbc7-b4af8de90ca3"
      },
      "execution_count": 37,
      "outputs": [
        {
          "output_type": "stream",
          "name": "stdout",
          "text": [
            "Epoch=0 loss=0.1268\n",
            "Epoch=1 loss=0.1267\n",
            "Epoch=2 loss=0.1265\n",
            "Epoch=3 loss=0.1271\n",
            "Epoch=4 loss=0.1273\n",
            "Epoch=5 loss=0.1272\n",
            "Epoch=6 loss=0.1269\n",
            "Epoch=7 loss=0.1273\n",
            "Epoch=8 loss=0.1274\n",
            "Epoch=9 loss=0.1269\n"
          ]
        }
      ]
    },
    {
      "cell_type": "code",
      "source": [
        "loss_test = test(model_ft_new_2, nn.CrossEntropyLoss().cuda(), epochs = 10)"
      ],
      "metadata": {
        "colab": {
          "base_uri": "https://localhost:8080/"
        },
        "id": "1oXSY9pB2QNv",
        "outputId": "806458e4-94ec-4790-9e3d-25a77be7b339"
      },
      "execution_count": 38,
      "outputs": [
        {
          "output_type": "stream",
          "name": "stdout",
          "text": [
            "Epoch=0 loss=0.2042\n",
            "Epoch=1 loss=0.1947\n",
            "Epoch=2 loss=0.192\n",
            "Epoch=3 loss=0.1928\n",
            "Epoch=4 loss=0.2053\n",
            "Epoch=5 loss=0.1916\n",
            "Epoch=6 loss=0.2009\n",
            "Epoch=7 loss=0.1969\n",
            "Epoch=8 loss=0.1929\n",
            "Epoch=9 loss=0.1914\n",
            "Accuracy of the network on the 10000 test images: 96 %\n"
          ]
        }
      ]
    },
    {
      "cell_type": "markdown",
      "source": [
        "Fine tuning without frozen layers"
      ],
      "metadata": {
        "id": "aaYDWGsi7_5G"
      }
    },
    {
      "cell_type": "code",
      "source": [
        "model_ft = models.resnet18(pretrained=True)\n",
        "num_ftrs = model_ft.fc.in_features\n",
        "# Here the size of each output sample is set to 2.\n",
        "# Alternatively, it can be generalized to nn.Linear(num_ftrs, len(class_names)).\n",
        "model_ft.fc = nn.Linear(num_ftrs, 17)\n",
        "device = torch.device('cuda' if torch.cuda.is_available() else 'cpu')\n",
        "model_ft = model_ft.to(device)\n",
        "\n",
        "criterion = nn.CrossEntropyLoss()\n",
        "\n",
        "# Observe that all parameters are being optimized\n",
        "optimizer_ft = optim.SGD(model_ft.parameters(), lr=0.001, momentum=0.9)\n",
        "\n",
        "# Decay LR by a factor of 0.1 every 7 epochs\n",
        "exp_lr_scheduler = lr_scheduler.StepLR(optimizer_ft, step_size=7, gamma=0.1)"
      ],
      "metadata": {
        "colab": {
          "base_uri": "https://localhost:8080/"
        },
        "id": "-6i8n3-Q8EfD",
        "outputId": "60ced988-0ff8-4f7a-c16b-dd1b4d5d9c20"
      },
      "execution_count": 39,
      "outputs": [
        {
          "output_type": "stream",
          "name": "stderr",
          "text": [
            "/usr/local/lib/python3.7/dist-packages/torchvision/models/_utils.py:209: UserWarning: The parameter 'pretrained' is deprecated since 0.13 and will be removed in 0.15, please use 'weights' instead.\n",
            "  f\"The parameter '{pretrained_param}' is deprecated since 0.13 and will be removed in 0.15, \"\n",
            "/usr/local/lib/python3.7/dist-packages/torchvision/models/_utils.py:223: UserWarning: Arguments other than a weight enum or `None` for 'weights' are deprecated since 0.13 and will be removed in 0.15. The current behavior is equivalent to passing `weights=ResNet18_Weights.IMAGENET1K_V1`. You can also use `weights=ResNet18_Weights.DEFAULT` to get the most up-to-date weights.\n",
            "  warnings.warn(msg)\n"
          ]
        }
      ]
    },
    {
      "cell_type": "code",
      "source": [
        "loss_hist_ft_0 = train(model_ft, criterion.cuda(), optimizer_ft, epochs=10)"
      ],
      "metadata": {
        "colab": {
          "base_uri": "https://localhost:8080/"
        },
        "id": "o4qmGuwz8KWB",
        "outputId": "1750a825-1bfb-4f3b-de6e-66cca9e68d5f"
      },
      "execution_count": 40,
      "outputs": [
        {
          "output_type": "stream",
          "name": "stdout",
          "text": [
            "Epoch=0 loss=0.8877\n",
            "Epoch=1 loss=0.1518\n",
            "Epoch=2 loss=0.07108\n",
            "Epoch=3 loss=0.04382\n",
            "Epoch=4 loss=0.03008\n",
            "Epoch=5 loss=0.02089\n",
            "Epoch=6 loss=0.01863\n",
            "Epoch=7 loss=0.01372\n",
            "Epoch=8 loss=0.01299\n",
            "Epoch=9 loss=0.01106\n"
          ]
        }
      ]
    },
    {
      "cell_type": "code",
      "source": [
        "loss_test = test(model_ft, nn.CrossEntropyLoss().cuda(), epochs = 10)"
      ],
      "metadata": {
        "colab": {
          "base_uri": "https://localhost:8080/"
        },
        "id": "i8wnh9B28KZx",
        "outputId": "47459148-d700-49a9-8304-4a6064c4cfc9"
      },
      "execution_count": 41,
      "outputs": [
        {
          "output_type": "stream",
          "name": "stdout",
          "text": [
            "Epoch=0 loss=0.04018\n",
            "Epoch=1 loss=0.04249\n",
            "Epoch=2 loss=0.04512\n",
            "Epoch=3 loss=0.06806\n",
            "Epoch=4 loss=0.03992\n",
            "Epoch=5 loss=0.04511\n",
            "Epoch=6 loss=0.04492\n",
            "Epoch=7 loss=0.04745\n",
            "Epoch=8 loss=0.04173\n",
            "Epoch=9 loss=0.04452\n",
            "Accuracy of the network on the 10000 test images: 99 %\n"
          ]
        }
      ]
    },
    {
      "cell_type": "code",
      "source": [
        "X = [0,1,2,3,4,5,6,7,8,9]\n",
        "plt.plot(X, loss_hist_CNN, label = 'CLassic CNN')\n",
        "plt.plot(X, loss_hist_tl, label = 'Transfer Learning')\n",
        "plt.plot(X, loss_hist_ft_0, label = 'fine tune unfrozen')\n",
        "plt.legend()\n",
        "plt.show()"
      ],
      "metadata": {
        "colab": {
          "base_uri": "https://localhost:8080/",
          "height": 265
        },
        "id": "P_JLSzpXGCf2",
        "outputId": "0c71c567-cc58-40c3-9e78-71a2dc8df9a5"
      },
      "execution_count": 43,
      "outputs": [
        {
          "output_type": "display_data",
          "data": {
            "text/plain": [
              "<Figure size 432x288 with 1 Axes>"
            ],
            "image/png": "[encoded data removed]"
          },
          "metadata": {
            "needs_background": "light"
          }
        }
      ]
    },
    {
      "cell_type": "code",
      "source": [
        "plt.plot(X, loss_hist_ft_0, label = 'fine tune unfrozen')\n",
        "plt.plot(X, loss_hist_ft_1, label = 'frozen layers')\n",
        "plt.plot(X, loss_hist_ft_2, label = 'unfreeze 7 layers')\n",
        "plt.plot(X, loss_hist_ft_3, label = 'unfreeze all')\n",
        "plt.legend()\n",
        "plt.show()"
      ],
      "metadata": {
        "colab": {
          "base_uri": "https://localhost:8080/",
          "height": 266
        },
        "id": "XlCLdNQSGtqK",
        "outputId": "9a21aed1-1c86-41d3-95e3-545ac9e85842"
      },
      "execution_count": 44,
      "outputs": [
        {
          "output_type": "display_data",
          "data": {
            "text/plain": [
              "<Figure size 432x288 with 1 Axes>"
            ],
            "image/png": "[encoded data removed]"
          },
          "metadata": {
            "needs_background": "light"
          }
        }
      ]
    }
  ],
  "metadata": {
    "colab": {
      "collapsed_sections": [],
      "provenance": [],
      "authorship_tag": "ABX9TyPOvop3HcIlISGHTSpvieBq",
      "include_colab_link": true
    },
    "kernelspec": {
      "display_name": "Python 3",
      "name": "python3"
    },
    "language_info": {
      "name": "python"
    },
    "accelerator": "GPU"
  },
  "nbformat": 4,
  "nbformat_minor": 0
}